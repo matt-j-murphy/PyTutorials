{
 "cells": [
  {
   "cell_type": "markdown",
   "metadata": {},
   "source": [
    "# Python K-Means Clustering Tutorial\n",
    "\n",
    "This is an example showing how the scikit-learn API can be used to cluster documents by topics using a Bag of Words approach.\n",
    "\n",
    "Two algorithms are demonstrated, namely KMeans and its more scalable variant, MiniBatchKMeans. Additionally, latent semantic analysis is used to reduce dimensionality and discover latent patterns in the data.\n",
    "\n",
    "This example uses two different text vectorizers: a TfidfVectorizer and a HashingVectorizer. See the example notebook FeatureHasher and DictVectorizer Comparison for more information on vectorizers and a comparison of their processing times.\n",
    "\n",
    "For document analysis via a supervised learning approach, see the example script Classification of text documents using sparse features.\n",
    "\n",
    "## Loading text data\n",
    "\n",
    "We load data from The 20 newsgroups text dataset, which comprises around 18,000 newsgroups posts on 20 topics. For illustrative purposes and to reduce the computational cost, we select a subset of 4 topics only accounting for around 3,400 documents. See the example Classification of text documents using sparse features to gain intuition on the overlap of such topics.\n",
    "\n",
    "Notice that, by default, the text samples contain some message metadata such as \"headers\", \"footers\" (signatures) and \"quotes\" to other posts. We use the remove parameter from fetch_20newsgroups to strip those features and have a more sensible clustering problem."
   ]
  },
  {
   "cell_type": "code",
   "execution_count": null,
   "metadata": {},
   "outputs": [
    {
     "name": "stdout",
     "output_type": "stream",
     "text": [
      "3387 documents - 4 categories\n"
     ]
    }
   ],
   "source": [
    "import numpy as np\n",
    "\n",
    "from sklearn.datasets import fetch_20newsgroups\n",
    "\n",
    "categories = [\n",
    "    \"alt.atheism\",\n",
    "    \"talk.religion.misc\",\n",
    "    \"comp.graphics\",\n",
    "    \"sci.space\",\n",
    "]\n",
    "\n",
    "dataset = fetch_20newsgroups(\n",
    "    remove = (\"headers\", \"footers\", \"quotes\"),\n",
    "    subset = \"all\",\n",
    "    categories = categories,\n",
    "    shuffle = True,\n",
    "    random_state = 42,\n",
    ")\n",
    "\n",
    "labels = dataset.target\n",
    "unique_labels, category_sizes = np.unique(labels, return_counts = True)\n",
    "true_k = unique_labels.shape[0]\n",
    "\n",
    "print(f\"{len(dataset.data)} documents - {true_k} categories\")"
   ]
  },
  {
   "cell_type": "markdown",
   "metadata": {},
   "source": [
    "## Quantifying the quality of clustering results ##\n",
    "\n",
    "In this section we define a function to score different clustering pipelines using several metrics.\n",
    "\n",
    "Clustering algorithms are fundamentally unsupervised learning methods. However, since we happen to have class labels for this specific dataset, it is possible to use evaluation metrics that leverage this “supervised” ground truth information to quantify the quality of the resulting clusters. Examples of such metrics are the following:\n",
    "\n",
    "1. **Homogeneity**: quantifies how much clusters contain only members of  single class.\n",
    "\n",
    "2. **Completenes**:  quantifies how much members of a given class are assigned to the same clusters.\n",
    "\n",
    "3. **V-measure**: the harmonic mean of completeness and homogeneity.\n",
    "\n",
    "4. **Rand-Index**: measures how frequently pairs of data points are grouped consistently according to the result of the clustering algorithm and the ground truth class assignment.\n",
    "\n",
    "5. **Adjusted Rand-Index**, a chance-adjusted Rand-Index such that random cluster assignment have an ARI of 0.0 in expectation.\n",
    "\n",
    "If the ground truth labels are not known, evaluation can only be performed using the model results itself. In that case, the Silhouette Coefficient comes in handy. See Selecting the number of clusters with silhouette analysis on KMeans clustering for an example on how to do it."
   ]
  },
  {
   "cell_type": "code",
   "execution_count": null,
   "metadata": {},
   "outputs": [],
   "source": [
    "from collections import defaultdict\n",
    "from time import time\n",
    "\n",
    "from sklearn import metrics\n",
    "\n",
    "evaluations = []\n",
    "evaluations_std = []\n",
    "\n",
    "\n",
    "def fit_and_evaluate(km, X, name = None, n_runs = 5):\n",
    "    name = km.__class__.__name__ if name is None else name\n",
    "\n",
    "    train_times = []\n",
    "    scores = defaultdict(list)\n",
    "    for seed in range(n_runs):\n",
    "        km.set_params(random_state=seed)\n",
    "        t0 = time()\n",
    "        km.fit(X)\n",
    "        train_times.append(time() - t0)\n",
    "        scores[\"Homogeneity\"].append(\n",
    "            metrics.homogeneity_score(labels, km.labels_)\n",
    "            )\n",
    "        scores[\"Completeness\"].append(\n",
    "            metrics.completeness_score(labels, km.labels_)\n",
    "            )\n",
    "        scores[\"V-measure\"].append(\n",
    "            metrics.v_measure_score(labels, km.labels_)\n",
    "            )\n",
    "        scores[\"Adjusted Rand-Index\"].append(\n",
    "            metrics.adjusted_rand_score(labels, km.labels_)\n",
    "            )\n",
    "        scores[\"Silhouette Coefficient\"].append(\n",
    "            metrics.silhouette_score(X, km.labels_, sample_size=2000)\n",
    "            )\n",
    "    train_times = np.asarray(train_times)\n",
    "\n",
    "    print(f\"clustering done in {train_times.mean():.2f} ± {train_times.std():.2f} s \")\n",
    "\n",
    "    evaluation = {\n",
    "        \"estimator\": name,\n",
    "        \"train_time\": train_times.mean(),\n",
    "    }\n",
    "\n",
    "    evaluation_std = {\n",
    "        \"estimator\": name,\n",
    "        \"train_time\": train_times.std(),\n",
    "    }\n",
    "\n",
    "    for score_name, score_values in scores.items():\n",
    "        mean_score, std_score = np.mean(score_values), np.std(score_values)\n",
    "        print(f\"{score_name}: {mean_score:.3f} ± {std_score:.3f}\")\n",
    "        evaluation[score_name] = mean_score\n",
    "        evaluation_std[score_name] = std_score\n",
    "\n",
    "    evaluations.append(evaluation)\n",
    "    evaluations_std.append(evaluation_std)"
   ]
  },
  {
   "cell_type": "markdown",
   "metadata": {},
   "source": [
    "## K-means clustering on text features\n",
    "\n",
    "Two feature extraction methods are used in this example:\n",
    "\n",
    "`TfidfVectorizer` uses an in-memory vocabulary (a Python dict) to map the most frequent words to features indices and hence compute a word occurrence frequency (sparse) matrix. The word frequencies are then reweighted using the Inverse Document Frequency (IDF) vector collected feature-wise over the corpus.\n",
    "\n",
    "`HashingVectorizer` hashes word occurrences to a fixed dimensional space, possibly with collisions. The word count vectors are then normalized to each have l2-norm equal to one (projected to the euclidean unit-sphere) which seems to be important for k-means to work in high dimensional space.\n",
    "\n",
    "Furthermore it is possible to post-process those extracted features using dimensionality reduction. We will explore the impact of those choices on the clustering quality in the following."
   ]
  },
  {
   "cell_type": "markdown",
   "metadata": {},
   "source": [
    "### Feature Extraction using TfidfVectorizer\n",
    "\n",
    "We first benchmark the estimators using a dictionary vectorizer along with an IDF normalization as provided by TfidfVectorizer."
   ]
  },
  {
   "cell_type": "code",
   "execution_count": null,
   "metadata": {},
   "outputs": [
    {
     "name": "stdout",
     "output_type": "stream",
     "text": [
      "vectorization done in 0.549 s\n",
      "n_samples: 3387, n_features: 7929\n"
     ]
    }
   ],
   "source": [
    "from sklearn.feature_extraction.text import TfidfVectorizer\n",
    "\n",
    "vectorizer = TfidfVectorizer(\n",
    "    max_df = 0.5,\n",
    "    min_df = 5,\n",
    "    stop_words = \"english\",\n",
    ")\n",
    "t0 = time()\n",
    "X_tfidf = vectorizer.fit_transform(dataset.data)\n",
    "\n",
    "print(f\"vectorization done in {time() - t0:.3f} s\")\n",
    "print(f\"n_samples: {X_tfidf.shape[0]}, n_features: {X_tfidf.shape[1]}\")"
   ]
  },
  {
   "cell_type": "markdown",
   "metadata": {},
   "source": [
    "After ignoring terms that appear in more than 50% of the documents (as set by max_df = 0.5) and terms that are not present in at least 5 documents (set by min_df = 5), the resulting number of unique terms n_features is around 8,000. We can additionally quantify the sparsity of the X_tfidf matrix as the fraction of non-zero entries divided by the total number of elements."
   ]
  },
  {
   "cell_type": "code",
   "execution_count": 5,
   "metadata": {},
   "outputs": [
    {
     "name": "stdout",
     "output_type": "stream",
     "text": [
      "0.007\n"
     ]
    }
   ],
   "source": [
    "print(f\"{X_tfidf.nnz / np.prod(X_tfidf.shape):.3f}\")\n",
    "\n",
    "# We find that around 0.7% of the entries of the X_tfidf matrix are non-zero."
   ]
  },
  {
   "cell_type": "markdown",
   "metadata": {},
   "source": [
    "## Clustering sparse data with k-means\n",
    "\n",
    "As both `KMeans` and `MiniBatchKMeans` optimize a non-convex objective function, their clustering is not guaranteed to be optimal for a given random init. Even further, on sparse high-dimensional data such as text vectorized using the Bag of Words approach, k-means can initialize centroids on extremely isolated data points. Those data points can stay their own centroids all along.\n",
    "\n",
    "The following code illustrates how the previous phenomenon can sometimes lead to highly imbalanced clusters, depending on the random initialization:"
   ]
  },
  {
   "cell_type": "code",
   "execution_count": null,
   "metadata": {},
   "outputs": [
    {
     "name": "stderr",
     "output_type": "stream",
     "text": [
      "C:\\Users\\mmurph36\\AppData\\Local\\Packages\\PythonSoftwareFoundation.Python.3.11_qbz5n2kfra8p0\\LocalCache\\local-packages\\Python311\\site-packages\\joblib\\externals\\loky\\backend\\context.py:136: UserWarning: Could not find the number of physical cores for the following reason:\n",
      "[WinError 2] The system cannot find the file specified\n",
      "Returning the number of logical cores instead. You can silence this warning by setting LOKY_MAX_CPU_COUNT to the number of cores you want to use.\n",
      "  warnings.warn(\n",
      "  File \"C:\\Users\\mmurph36\\AppData\\Local\\Packages\\PythonSoftwareFoundation.Python.3.11_qbz5n2kfra8p0\\LocalCache\\local-packages\\Python311\\site-packages\\joblib\\externals\\loky\\backend\\context.py\", line 257, in _count_physical_cores\n",
      "    cpu_info = subprocess.run(\n",
      "               ^^^^^^^^^^^^^^^\n",
      "  File \"C:\\Program Files\\WindowsApps\\PythonSoftwareFoundation.Python.3.11_3.11.2544.0_x64__qbz5n2kfra8p0\\Lib\\subprocess.py\", line 548, in run\n",
      "    with Popen(*popenargs, **kwargs) as process:\n",
      "         ^^^^^^^^^^^^^^^^^^^^^^^^^^^\n",
      "  File \"C:\\Program Files\\WindowsApps\\PythonSoftwareFoundation.Python.3.11_3.11.2544.0_x64__qbz5n2kfra8p0\\Lib\\subprocess.py\", line 1026, in __init__\n",
      "    self._execute_child(args, executable, preexec_fn, close_fds,\n",
      "  File \"C:\\Program Files\\WindowsApps\\PythonSoftwareFoundation.Python.3.11_3.11.2544.0_x64__qbz5n2kfra8p0\\Lib\\subprocess.py\", line 1538, in _execute_child\n",
      "    hp, ht, pid, tid = _winapi.CreateProcess(executable, args,\n",
      "                       ^^^^^^^^^^^^^^^^^^^^^^^^^^^^^^^^^^^^^^^\n"
     ]
    },
    {
     "name": "stdout",
     "output_type": "stream",
     "text": [
      "Number of elements assigned to each cluster: [ 481  675 1785  446]\n",
      "Number of elements assigned to each cluster: [1689  638  480  580]\n",
      "Number of elements assigned to each cluster: [   1    1    1 3384]\n",
      "Number of elements assigned to each cluster: [1887  311  332  857]\n",
      "Number of elements assigned to each cluster: [ 291  673 1771  652]\n",
      "\n",
      "True number of documents in each category according to the class labels: [799 973 987 628]\n"
     ]
    }
   ],
   "source": [
    "from sklearn.cluster import KMeans\n",
    "\n",
    "for seed in range(5):\n",
    "    kmeans = KMeans(\n",
    "        n_clusters = true_k,\n",
    "        max_iter = 100,\n",
    "        n_init = 1,\n",
    "        random_state = seed,).fit(X_tfidf)\n",
    "\n",
    "    cluster_ids, cluster_sizes = np.unique(kmeans.labels_, return_counts = True)\n",
    "\n",
    "    print(f\"Number of elements assigned to each cluster: {cluster_sizes}\")\n",
    "\n",
    "print()\n",
    "\n",
    "print(\"True number of documents in each category according to the class labels: \"f\"{category_sizes}\")"
   ]
  },
  {
   "cell_type": "markdown",
   "metadata": {},
   "source": [
    "To avoid this problem, one possibility is to increase the number of runs with independent random initiations n_init. In such case the clustering with the best inertia (objective function of k-means) is chosen."
   ]
  },
  {
   "cell_type": "code",
   "execution_count": null,
   "metadata": {},
   "outputs": [
    {
     "name": "stdout",
     "output_type": "stream",
     "text": [
      "clustering done in 0.28 ± 0.11 s \n",
      "Homogeneity: 0.349 ± 0.010\n",
      "Completeness: 0.398 ± 0.009\n",
      "V-measure: 0.372 ± 0.009\n",
      "Adjusted Rand-Index: 0.203 ± 0.017\n",
      "Silhouette Coefficient: 0.007 ± 0.000\n"
     ]
    }
   ],
   "source": [
    "kmeans = KMeans(\n",
    "    n_clusters = true_k,\n",
    "    max_iter = 100,\n",
    "    n_init = 5,\n",
    ")\n",
    "\n",
    "fit_and_evaluate(kmeans, X_tfidf, name = \"KMeans\\non tf-idf vectors\")"
   ]
  },
  {
   "cell_type": "markdown",
   "metadata": {},
   "source": [
    "All those clustering evaluation metrics have a maximum value of 1.0 (for a perfect clustering result). Higher values are better. Values of the **Adjusted Rand-Index** close to 0.0 correspond to a random labeling. Notice from the scores above that the cluster assignment is indeed well above chance level, but the overall quality can certainly improve.\n",
    "\n",
    "Keep in mind that the class labels may not reflect accurately the document topics and therefore metrics that use labels are not necessarily the best to evaluate the quality of our clustering pipeline."
   ]
  },
  {
   "cell_type": "markdown",
   "metadata": {},
   "source": [
    "## Performing dimensionality reduction using LSA\n",
    "\n",
    "A `n_init` = 1 can still be used as long as the dimension of the vectorized space is reduced first to make k-means more stable. For such purpose we use `TruncatedSVD`, which works on term count/tf-idf matrices. Since SVD results are not normalized, we redo the normalization to improve the `KMeans` result. Using SVD to reduce the dimensionality of TF-IDF document vectors is often known as **latent semantic analysis (LSA)** in the information retrieval and text mining literature."
   ]
  },
  {
   "cell_type": "code",
   "execution_count": null,
   "metadata": {},
   "outputs": [
    {
     "name": "stdout",
     "output_type": "stream",
     "text": [
      "LSA done in 1.404 s\n",
      "Explained variance of the SVD step: 18.4%\n"
     ]
    }
   ],
   "source": [
    "from sklearn.decomposition import TruncatedSVD\n",
    "from sklearn.pipeline import make_pipeline\n",
    "from sklearn.preprocessing import Normalizer\n",
    "\n",
    "lsa = make_pipeline(TruncatedSVD(n_components = 100), Normalizer(copy = False))\n",
    "t0 = time()\n",
    "X_lsa = lsa.fit_transform(X_tfidf)\n",
    "explained_variance = lsa[0].explained_variance_ratio_.sum()\n",
    "\n",
    "print(f\"LSA done in {time() - t0:.3f} s\")\n",
    "print(f\"Explained variance of the SVD step: {explained_variance * 100:.1f}%\")"
   ]
  },
  {
   "cell_type": "markdown",
   "metadata": {},
   "source": [
    "Using a single initialization means the processing time will be reduced for both `KMeans` and `MiniBatchKMeans`."
   ]
  },
  {
   "cell_type": "code",
   "execution_count": null,
   "metadata": {},
   "outputs": [
    {
     "name": "stdout",
     "output_type": "stream",
     "text": [
      "clustering done in 0.02 ± 0.00 s \n",
      "Homogeneity: 0.409 ± 0.002\n",
      "Completeness: 0.435 ± 0.012\n",
      "V-measure: 0.421 ± 0.005\n",
      "Adjusted Rand-Index: 0.328 ± 0.028\n",
      "Silhouette Coefficient: 0.030 ± 0.001\n"
     ]
    }
   ],
   "source": [
    "kmeans = KMeans(\n",
    "    n_clusters = true_k,\n",
    "    max_iter = 100,\n",
    "    n_init = 1,\n",
    ")\n",
    "\n",
    "fit_and_evaluate(kmeans, X_lsa, name = \"KMeans\\nwith LSA on tf-idf vectors\")"
   ]
  },
  {
   "cell_type": "markdown",
   "metadata": {},
   "source": [
    "We can observe that clustering on the LSA representation of the document is significantly faster (both because of n_init=1 and because the dimensionality of the LSA feature space is much smaller). Furthermore, all the clustering evaluation metrics have improved. We repeat the experiment with MiniBatchKMeans."
   ]
  },
  {
   "cell_type": "code",
   "execution_count": null,
   "metadata": {},
   "outputs": [
    {
     "name": "stdout",
     "output_type": "stream",
     "text": [
      "clustering done in 0.24 ± 0.07 s \n",
      "Homogeneity: 0.351 ± 0.054\n",
      "Completeness: 0.388 ± 0.026\n",
      "V-measure: 0.365 ± 0.033\n",
      "Adjusted Rand-Index: 0.282 ± 0.053\n",
      "Silhouette Coefficient: 0.024 ± 0.006\n"
     ]
    }
   ],
   "source": [
    "from sklearn.cluster import MiniBatchKMeans\n",
    "\n",
    "minibatch_kmeans = MiniBatchKMeans(\n",
    "    n_clusters = true_k,\n",
    "    n_init = 1,\n",
    "    init_size = 1000,\n",
    "    batch_size = 1000,\n",
    ")\n",
    "\n",
    "fit_and_evaluate(\n",
    "    minibatch_kmeans,\n",
    "    X_lsa,\n",
    "    name = \"MiniBatchKMeans\\nwith LSA on tf-idf vectors\",\n",
    ")"
   ]
  },
  {
   "cell_type": "markdown",
   "metadata": {},
   "source": [
    "## Top terms per cluster ##\n",
    "\n",
    "Since `TfidfVectorizer` can be inverted we can identify the cluster centers, which provide an intuition of the most influential words for each cluster. See the example script Classification of text documents using sparse features for a comparison with the most predictive words for each target class."
   ]
  },
  {
   "cell_type": "code",
   "execution_count": null,
   "metadata": {},
   "outputs": [
    {
     "name": "stdout",
     "output_type": "stream",
     "text": [
      "Cluster 0: don think just people like know say time good did \n",
      "Cluster 1: thanks graphics image know files program file looking software does \n",
      "Cluster 2: god jesus bible believe christian people faith say does christians \n",
      "Cluster 3: space launch orbit shuttle nasa earth moon like mission just \n"
     ]
    }
   ],
   "source": [
    "original_space_centroids = lsa[0].inverse_transform(kmeans.cluster_centers_)\n",
    "order_centroids = original_space_centroids.argsort()[:, ::-1]\n",
    "terms = vectorizer.get_feature_names_out()\n",
    "\n",
    "for i in range(true_k):\n",
    "    print(f\"Cluster {i}: \", end = \"\")\n",
    "    for ind in order_centroids[i, :10]:\n",
    "        print(f\"{terms[ind]} \", end = \"\")\n",
    "    print()"
   ]
  },
  {
   "cell_type": "markdown",
   "metadata": {},
   "source": [
    "## HashingVectorizer ##\n",
    "\n",
    "An alternative vectorization can be done using a `HashingVectorizer` instance, which does not provide IDF weighting as this is a stateless model (the fit method does nothing). When IDF weighting is needed it can be added by pipelining the `HashingVectorizer` output to a `TfidfTransformer` instance. In this case we also add LSA to the pipeline to reduce the dimension and sparcity of the hashed vector space."
   ]
  },
  {
   "cell_type": "code",
   "execution_count": null,
   "metadata": {},
   "outputs": [
    {
     "name": "stdout",
     "output_type": "stream",
     "text": [
      "vectorization done in 3.558 s\n"
     ]
    }
   ],
   "source": [
    "from sklearn.feature_extraction.text import HashingVectorizer, TfidfTransformer\n",
    "\n",
    "lsa_vectorizer = make_pipeline(\n",
    "    HashingVectorizer(stop_words =\"english\", n_features = 50_000),\n",
    "    TfidfTransformer(),\n",
    "    TruncatedSVD(n_components = 100, random_state = 0),\n",
    "    Normalizer(copy = False),\n",
    ")\n",
    "\n",
    "t0 = time()\n",
    "X_hashed_lsa = lsa_vectorizer.fit_transform(dataset.data)\n",
    "print(f\"vectorization done in {time() - t0:.3f} s\")"
   ]
  },
  {
   "cell_type": "code",
   "execution_count": null,
   "metadata": {},
   "outputs": [
    {
     "name": "stdout",
     "output_type": "stream",
     "text": [
      "clustering done in 0.10 ± 0.01 s \n",
      "Homogeneity: 0.400 ± 0.003\n",
      "Completeness: 0.451 ± 0.005\n",
      "V-measure: 0.424 ± 0.004\n",
      "Adjusted Rand-Index: 0.320 ± 0.009\n",
      "Silhouette Coefficient: 0.029 ± 0.001\n"
     ]
    }
   ],
   "source": [
    "fit_and_evaluate(kmeans, X_hashed_lsa, name = \"KMeans\\nwith LSA on hashed vectors\")"
   ]
  },
  {
   "cell_type": "code",
   "execution_count": null,
   "metadata": {},
   "outputs": [
    {
     "name": "stdout",
     "output_type": "stream",
     "text": [
      "clustering done in 0.19 ± 0.07 s \n",
      "Homogeneity: 0.342 ± 0.051\n",
      "Completeness: 0.361 ± 0.049\n",
      "V-measure: 0.351 ± 0.050\n",
      "Adjusted Rand-Index: 0.301 ± 0.041\n",
      "Silhouette Coefficient: 0.029 ± 0.002\n"
     ]
    }
   ],
   "source": [
    "fit_and_evaluate(\n",
    "    minibatch_kmeans,\n",
    "    X_hashed_lsa,\n",
    "    name = \"MiniBatchKMeans\\nwith LSA on hashed vectors\",\n",
    ")"
   ]
  },
  {
   "cell_type": "code",
   "execution_count": 20,
   "metadata": {},
   "outputs": [
    {
     "data": {
      "image/png": "[encoded data removed]",
      "text/plain": [
       "<Figure size 1600x600 with 2 Axes>"
      ]
     },
     "metadata": {},
     "output_type": "display_data"
    }
   ],
   "source": [
    "import matplotlib.pyplot as plt\n",
    "import pandas as pd\n",
    "\n",
    "fig, (ax0, ax1) = plt.subplots(ncols = 2, figsize = (16, 6), sharey = True)\n",
    "\n",
    "df = pd.DataFrame(evaluations[::-1]).set_index(\"estimator\")\n",
    "df_std = pd.DataFrame(evaluations_std[::-1]).set_index(\"estimator\")\n",
    "\n",
    "df.drop(\n",
    "    [\"train_time\"],\n",
    "    axis = \"columns\",\n",
    ").plot.barh(ax = ax0, xerr = df_std)\n",
    "ax0.set_xlabel(\"Clustering scores\")\n",
    "ax0.set_ylabel(\"\")\n",
    "\n",
    "df[\"train_time\"].plot.barh(ax = ax1, xerr = df_std[\"train_time\"])\n",
    "ax1.set_xlabel(\"Clustering time (s)\")\n",
    "plt.tight_layout()"
   ]
  }
 ],
 "metadata": {
  "language_info": {
   "name": "python"
  }
 },
 "nbformat": 4,
 "nbformat_minor": 2
}
